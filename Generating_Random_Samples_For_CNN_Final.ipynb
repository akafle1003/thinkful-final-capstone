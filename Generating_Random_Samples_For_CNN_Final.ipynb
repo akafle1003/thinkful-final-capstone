{
 "cells": [
  {
   "cell_type": "markdown",
   "metadata": {},
   "source": [
    "# Generating train, validation and test images using random sampling\n",
    "\n",
    "In this notebook, I took following steps to sample train, validation and test images from DICOM images available for __[this kaggle competition](https://www.kaggle.com/c/rsna-pneumonia-detection-challenge)__ and save them into their corresponding folders for the CNN model I train and evaluate in **'Classifying_Potential_Pneumonia_Cases_Using_CNN_Final.ipynb'**.\n",
    "\n",
    "* There are 26,684 unique chest radigraphs available from the competition. Of those radiographs, 22.53% are identified as pneumonia cases. I use random under sampling of the majority class (i.e., normal cases) to gather balanced samples of about 12,024 radiographs.\n",
    "\n",
    "* I then randomly sample about 8% (998 radiographs) of the balanced samples (12,024) and save them as test samples. \n",
    "\n",
    "* Of the reamining 11,026 samples, I randomly sample about 9% (1,004) and save them as validation images. \n",
    "\n",
    "* Of the remaining 10,022, I randomly sample 50% (5,011) and save them as my train samples.\n",
    "\n",
    "* I copy final train, validation  and test images into their corresponding folders and associated csv files."
   ]
  },
  {
   "cell_type": "code",
   "execution_count": 1,
   "metadata": {},
   "outputs": [],
   "source": [
    "# Import packages\n",
    "import pandas as pd\n",
    "import numpy as np\n",
    "from random import sample\n",
    "import os\n",
    "import shutil\n",
    "from imblearn.under_sampling import RandomUnderSampler\n",
    "from collections import Counter\n",
    "from sklearn.model_selection import train_test_split"
   ]
  },
  {
   "cell_type": "markdown",
   "metadata": {},
   "source": [
    "**Step 1: Import csv file that has image names and target labels for all original samples**"
   ]
  },
  {
   "cell_type": "code",
   "execution_count": 2,
   "metadata": {},
   "outputs": [
    {
     "data": {
      "text/html": [
       "<div>\n",
       "<style scoped>\n",
       "    .dataframe tbody tr th:only-of-type {\n",
       "        vertical-align: middle;\n",
       "    }\n",
       "\n",
       "    .dataframe tbody tr th {\n",
       "        vertical-align: top;\n",
       "    }\n",
       "\n",
       "    .dataframe thead th {\n",
       "        text-align: right;\n",
       "    }\n",
       "</style>\n",
       "<table border=\"1\" class=\"dataframe\">\n",
       "  <thead>\n",
       "    <tr style=\"text-align: right;\">\n",
       "      <th></th>\n",
       "      <th>patientId</th>\n",
       "      <th>x</th>\n",
       "      <th>y</th>\n",
       "      <th>width</th>\n",
       "      <th>height</th>\n",
       "      <th>Target</th>\n",
       "      <th>index</th>\n",
       "    </tr>\n",
       "  </thead>\n",
       "  <tbody>\n",
       "    <tr>\n",
       "      <th>0</th>\n",
       "      <td>0004cfab-14fd-4e49-80ba-63a80b6bddd6</td>\n",
       "      <td>NaN</td>\n",
       "      <td>NaN</td>\n",
       "      <td>NaN</td>\n",
       "      <td>NaN</td>\n",
       "      <td>0</td>\n",
       "      <td>0</td>\n",
       "    </tr>\n",
       "    <tr>\n",
       "      <th>1</th>\n",
       "      <td>00313ee0-9eaa-42f4-b0ab-c148ed3241cd</td>\n",
       "      <td>NaN</td>\n",
       "      <td>NaN</td>\n",
       "      <td>NaN</td>\n",
       "      <td>NaN</td>\n",
       "      <td>0</td>\n",
       "      <td>1</td>\n",
       "    </tr>\n",
       "    <tr>\n",
       "      <th>2</th>\n",
       "      <td>00322d4d-1c29-4943-afc9-b6754be640eb</td>\n",
       "      <td>NaN</td>\n",
       "      <td>NaN</td>\n",
       "      <td>NaN</td>\n",
       "      <td>NaN</td>\n",
       "      <td>0</td>\n",
       "      <td>2</td>\n",
       "    </tr>\n",
       "    <tr>\n",
       "      <th>3</th>\n",
       "      <td>003d8fa0-6bf1-40ed-b54c-ac657f8495c5</td>\n",
       "      <td>NaN</td>\n",
       "      <td>NaN</td>\n",
       "      <td>NaN</td>\n",
       "      <td>NaN</td>\n",
       "      <td>0</td>\n",
       "      <td>3</td>\n",
       "    </tr>\n",
       "    <tr>\n",
       "      <th>5</th>\n",
       "      <td>00436515-870c-4b36-a041-de91049b9ab4</td>\n",
       "      <td>562.0</td>\n",
       "      <td>152.0</td>\n",
       "      <td>256.0</td>\n",
       "      <td>453.0</td>\n",
       "      <td>1</td>\n",
       "      <td>5</td>\n",
       "    </tr>\n",
       "  </tbody>\n",
       "</table>\n",
       "</div>"
      ],
      "text/plain": [
       "                              patientId      x      y  width  height  Target  \\\n",
       "0  0004cfab-14fd-4e49-80ba-63a80b6bddd6    NaN    NaN    NaN     NaN       0   \n",
       "1  00313ee0-9eaa-42f4-b0ab-c148ed3241cd    NaN    NaN    NaN     NaN       0   \n",
       "2  00322d4d-1c29-4943-afc9-b6754be640eb    NaN    NaN    NaN     NaN       0   \n",
       "3  003d8fa0-6bf1-40ed-b54c-ac657f8495c5    NaN    NaN    NaN     NaN       0   \n",
       "5  00436515-870c-4b36-a041-de91049b9ab4  562.0  152.0  256.0   453.0       1   \n",
       "\n",
       "   index  \n",
       "0      0  \n",
       "1      1  \n",
       "2      2  \n",
       "3      3  \n",
       "5      5  "
      ]
     },
     "execution_count": 2,
     "metadata": {},
     "output_type": "execute_result"
    }
   ],
   "source": [
    "# Import csv file with image names and target labels\n",
    "df=pd.read_csv('~/Desktop/Thinkful/data/stage_2_train_labels.csv')\n",
    "\n",
    "# All duplicates have the same class label, so drop duplicates\n",
    "df = df.drop_duplicates(subset=['patientId'], keep='last')\n",
    "\n",
    "# Add index as a new column\n",
    "df['index'] = df.index\n",
    "\n",
    "df.head(5)"
   ]
  },
  {
   "cell_type": "code",
   "execution_count": 3,
   "metadata": {},
   "outputs": [
    {
     "name": "stdout",
     "output_type": "stream",
     "text": [
      "Percent of positive class: 22.53 %\n"
     ]
    }
   ],
   "source": [
    "# Percentage of positive class in the original samples\n",
    "print('Percent of positive class:', round(df['Target'].mean()*100, 2), '%')"
   ]
  },
  {
   "cell_type": "code",
   "execution_count": 4,
   "metadata": {},
   "outputs": [],
   "source": [
    "# Define x(index) and y(Target)\n",
    "x=df.loc[:,'index']\n",
    "y=df.loc[:,'Target']"
   ]
  },
  {
   "cell_type": "code",
   "execution_count": 5,
   "metadata": {},
   "outputs": [],
   "source": [
    "# Convert x(index) and y(Target) into numpy array for random under sampling\n",
    "x=x.values.reshape(-1, 1) # since we only have one feature for resampling\n",
    "y=y.values"
   ]
  },
  {
   "cell_type": "code",
   "execution_count": 6,
   "metadata": {},
   "outputs": [],
   "source": [
    "# Random under sampling\n",
    "rus = RandomUnderSampler(random_state=321)\n",
    "rus.fit(x, y)\n",
    "x_rus, y_rus = rus.sample(x, y)"
   ]
  },
  {
   "cell_type": "code",
   "execution_count": 7,
   "metadata": {},
   "outputs": [
    {
     "name": "stdout",
     "output_type": "stream",
     "text": [
      "Train and validation samples:  11026 images\n",
      "Test samples:  998 images\n"
     ]
    }
   ],
   "source": [
    "# Split the random under samples into train and validation (92%) and test (8%) samples\n",
    "x_train, x_test, y_train, y_test = train_test_split(x_rus, y_rus, test_size=0.083, random_state=321)\n",
    "print('Train and validation samples: ', x_train.shape[0], 'images')\n",
    "print('Test samples: ', x_test.shape[0], 'images')"
   ]
  },
  {
   "cell_type": "code",
   "execution_count": 8,
   "metadata": {},
   "outputs": [
    {
     "name": "stdout",
     "output_type": "stream",
     "text": [
      "Train samples:  10022 images\n",
      "Validation samples:  1004 images\n"
     ]
    }
   ],
   "source": [
    "# Split the train and validation samples into train (91%) and validatation (9%) samples\n",
    "x_train_1, x_val, y_train_1, y_val = train_test_split(x_train, y_train, test_size=0.091, random_state=321)\n",
    "print('Train samples: ', x_train_1.shape[0], 'images')\n",
    "print('Validation samples: ', x_val.shape[0], 'images')"
   ]
  },
  {
   "cell_type": "code",
   "execution_count": 9,
   "metadata": {},
   "outputs": [
    {
     "name": "stdout",
     "output_type": "stream",
     "text": [
      "Final train samples:  5011 images\n",
      "Remaining samples:  5011 images\n"
     ]
    }
   ],
   "source": [
    "# Split the train images into final train (50%)\n",
    "x_train_final, x_rest, y_train_final, y_rest = train_test_split(x_train_1, y_train_1, test_size=0.5, random_state=321)\n",
    "print('Final train samples: ', x_train_final.shape[0], 'images')\n",
    "print('Remaining samples: ', x_rest.shape[0], 'images')"
   ]
  },
  {
   "cell_type": "markdown",
   "metadata": {},
   "source": [
    "**Step 2: Save test images and csv files with image names and target labels**"
   ]
  },
  {
   "cell_type": "code",
   "execution_count": 10,
   "metadata": {},
   "outputs": [
    {
     "name": "stdout",
     "output_type": "stream",
     "text": [
      "998 Test images\n"
     ]
    },
    {
     "data": {
      "text/html": [
       "<div>\n",
       "<style scoped>\n",
       "    .dataframe tbody tr th:only-of-type {\n",
       "        vertical-align: middle;\n",
       "    }\n",
       "\n",
       "    .dataframe tbody tr th {\n",
       "        vertical-align: top;\n",
       "    }\n",
       "\n",
       "    .dataframe thead th {\n",
       "        text-align: right;\n",
       "    }\n",
       "</style>\n",
       "<table border=\"1\" class=\"dataframe\">\n",
       "  <thead>\n",
       "    <tr style=\"text-align: right;\">\n",
       "      <th></th>\n",
       "      <th>0</th>\n",
       "      <th>index</th>\n",
       "    </tr>\n",
       "  </thead>\n",
       "  <tbody>\n",
       "    <tr>\n",
       "      <th>0</th>\n",
       "      <td>20019</td>\n",
       "      <td>20019</td>\n",
       "    </tr>\n",
       "    <tr>\n",
       "      <th>1</th>\n",
       "      <td>23190</td>\n",
       "      <td>23190</td>\n",
       "    </tr>\n",
       "    <tr>\n",
       "      <th>2</th>\n",
       "      <td>20352</td>\n",
       "      <td>20352</td>\n",
       "    </tr>\n",
       "    <tr>\n",
       "      <th>3</th>\n",
       "      <td>9960</td>\n",
       "      <td>9960</td>\n",
       "    </tr>\n",
       "    <tr>\n",
       "      <th>4</th>\n",
       "      <td>14064</td>\n",
       "      <td>14064</td>\n",
       "    </tr>\n",
       "  </tbody>\n",
       "</table>\n",
       "</div>"
      ],
      "text/plain": [
       "       0  index\n",
       "0  20019  20019\n",
       "1  23190  23190\n",
       "2  20352  20352\n",
       "3   9960   9960\n",
       "4  14064  14064"
      ]
     },
     "execution_count": 10,
     "metadata": {},
     "output_type": "execute_result"
    }
   ],
   "source": [
    "# Convert numpy arrays back to dataframe\n",
    "x_test_df=pd.DataFrame(x_test)\n",
    "x_test_df['index']=x_test_df\n",
    "print(len(x_test_df), 'Test images')\n",
    "x_test_df.head(5)"
   ]
  },
  {
   "cell_type": "code",
   "execution_count": 11,
   "metadata": {},
   "outputs": [
    {
     "name": "stdout",
     "output_type": "stream",
     "text": [
      "Final test samples:  998 images\n",
      "Percent of positive class in the final test samples: 50.1 %\n"
     ]
    },
    {
     "data": {
      "text/html": [
       "<div>\n",
       "<style scoped>\n",
       "    .dataframe tbody tr th:only-of-type {\n",
       "        vertical-align: middle;\n",
       "    }\n",
       "\n",
       "    .dataframe tbody tr th {\n",
       "        vertical-align: top;\n",
       "    }\n",
       "\n",
       "    .dataframe thead th {\n",
       "        text-align: right;\n",
       "    }\n",
       "</style>\n",
       "<table border=\"1\" class=\"dataframe\">\n",
       "  <thead>\n",
       "    <tr style=\"text-align: right;\">\n",
       "      <th></th>\n",
       "      <th>0</th>\n",
       "      <th>index</th>\n",
       "      <th>patientId</th>\n",
       "      <th>x</th>\n",
       "      <th>y</th>\n",
       "      <th>width</th>\n",
       "      <th>height</th>\n",
       "      <th>Target</th>\n",
       "    </tr>\n",
       "  </thead>\n",
       "  <tbody>\n",
       "    <tr>\n",
       "      <th>0</th>\n",
       "      <td>20019</td>\n",
       "      <td>20019</td>\n",
       "      <td>b877bb8d-e274-483d-9586-397dc8897d45</td>\n",
       "      <td>NaN</td>\n",
       "      <td>NaN</td>\n",
       "      <td>NaN</td>\n",
       "      <td>NaN</td>\n",
       "      <td>0</td>\n",
       "    </tr>\n",
       "    <tr>\n",
       "      <th>1</th>\n",
       "      <td>23190</td>\n",
       "      <td>23190</td>\n",
       "      <td>d0ea3f4f-9bc8-417a-80ba-2ed5603b7662</td>\n",
       "      <td>NaN</td>\n",
       "      <td>NaN</td>\n",
       "      <td>NaN</td>\n",
       "      <td>NaN</td>\n",
       "      <td>0</td>\n",
       "    </tr>\n",
       "    <tr>\n",
       "      <th>2</th>\n",
       "      <td>20352</td>\n",
       "      <td>20352</td>\n",
       "      <td>ba9148d0-12d5-4333-9b5f-bb32c687ed66</td>\n",
       "      <td>584.0</td>\n",
       "      <td>89.0</td>\n",
       "      <td>229.0</td>\n",
       "      <td>488.0</td>\n",
       "      <td>1</td>\n",
       "    </tr>\n",
       "    <tr>\n",
       "      <th>3</th>\n",
       "      <td>9960</td>\n",
       "      <td>9960</td>\n",
       "      <td>6b731342-293f-495a-b341-e4ccc0e717fd</td>\n",
       "      <td>NaN</td>\n",
       "      <td>NaN</td>\n",
       "      <td>NaN</td>\n",
       "      <td>NaN</td>\n",
       "      <td>0</td>\n",
       "    </tr>\n",
       "    <tr>\n",
       "      <th>4</th>\n",
       "      <td>14064</td>\n",
       "      <td>14064</td>\n",
       "      <td>8be52575-7877-41c2-a1cd-cb16915273b6</td>\n",
       "      <td>149.0</td>\n",
       "      <td>502.0</td>\n",
       "      <td>249.0</td>\n",
       "      <td>205.0</td>\n",
       "      <td>1</td>\n",
       "    </tr>\n",
       "  </tbody>\n",
       "</table>\n",
       "</div>"
      ],
      "text/plain": [
       "       0  index                             patientId      x      y  width  \\\n",
       "0  20019  20019  b877bb8d-e274-483d-9586-397dc8897d45    NaN    NaN    NaN   \n",
       "1  23190  23190  d0ea3f4f-9bc8-417a-80ba-2ed5603b7662    NaN    NaN    NaN   \n",
       "2  20352  20352  ba9148d0-12d5-4333-9b5f-bb32c687ed66  584.0   89.0  229.0   \n",
       "3   9960   9960  6b731342-293f-495a-b341-e4ccc0e717fd    NaN    NaN    NaN   \n",
       "4  14064  14064  8be52575-7877-41c2-a1cd-cb16915273b6  149.0  502.0  249.0   \n",
       "\n",
       "   height  Target  \n",
       "0     NaN       0  \n",
       "1     NaN       0  \n",
       "2   488.0       1  \n",
       "3     NaN       0  \n",
       "4   205.0       1  "
      ]
     },
     "execution_count": 11,
     "metadata": {},
     "output_type": "execute_result"
    }
   ],
   "source": [
    "# Merge the test samples with the original dataframe to retrieve image names and Target values \n",
    "merge_test= pd.merge(x_test_df,df, left_on='index', right_on='index',how='left')\n",
    "print('Final test samples: ', merge_test.shape[0], 'images') \n",
    "print('Percent of positive class in the final test samples:', round(merge_test['Target'].mean()*100, 2), '%')\n",
    "merge_test.head(5)"
   ]
  },
  {
   "cell_type": "code",
   "execution_count": 12,
   "metadata": {},
   "outputs": [
    {
     "name": "stdout",
     "output_type": "stream",
     "text": [
      "Final test samples:  998 images\n"
     ]
    },
    {
     "data": {
      "text/plain": [
       "['b877bb8d-e274-483d-9586-397dc8897d45',\n",
       " 'd0ea3f4f-9bc8-417a-80ba-2ed5603b7662',\n",
       " 'ba9148d0-12d5-4333-9b5f-bb32c687ed66',\n",
       " '6b731342-293f-495a-b341-e4ccc0e717fd',\n",
       " '8be52575-7877-41c2-a1cd-cb16915273b6']"
      ]
     },
     "execution_count": 12,
     "metadata": {},
     "output_type": "execute_result"
    }
   ],
   "source": [
    "# Create a list of final test image names from the merged dataframe\n",
    "test_images_df=list(merge_test['patientId'])\n",
    "print('Final test samples: ', len(test_images_df), 'images') \n",
    "test_images_df[0:5]"
   ]
  },
  {
   "cell_type": "code",
   "execution_count": 13,
   "metadata": {},
   "outputs": [],
   "source": [
    "# Specify the absolute path\n",
    "abs_path=os.path.abspath(os.path.join('..'))\n",
    "\n",
    "# Specify the path of original .jpg images\n",
    "jpg_image_path = os.path.join(abs_path, 'data', 'stage_2_train_images_jpg')\n",
    "\n",
    "# Specify the path to copy final test images to\n",
    "test_image_path = os.path.join(abs_path, 'data', 'test_images')"
   ]
  },
  {
   "cell_type": "code",
   "execution_count": 14,
   "metadata": {},
   "outputs": [],
   "source": [
    "# Copy test images\n",
    "for i in test_images_df: \n",
    "    shutil.copy(os.path.join(jpg_image_path, i+ '.jpg'), test_image_path)"
   ]
  },
  {
   "cell_type": "code",
   "execution_count": 15,
   "metadata": {},
   "outputs": [
    {
     "name": "stdout",
     "output_type": "stream",
     "text": [
      "Final test samples:  998 images\n"
     ]
    },
    {
     "data": {
      "text/plain": [
       "['07332989-6518-4bd9-96de-f4513948cf4a',\n",
       " 'e380d5fb-dc74-41c9-adad-05b7b88b9137',\n",
       " '75dbc949-4634-4f9c-b3bb-a8c03747e9e1',\n",
       " '3c0a97d7-6d90-46a6-a10a-1df9e4064d52',\n",
       " '8ca19865-fd6c-4bcd-a2a0-7f9e9ea4bc5c']"
      ]
     },
     "execution_count": 15,
     "metadata": {},
     "output_type": "execute_result"
    }
   ],
   "source": [
    "# Generate the list of the final test images from the folder paths\n",
    "test_images_path = os.listdir(test_image_path)\n",
    "test_images_path1 = [i.strip('.jpg') for i in test_images_path]\n",
    "print('Final test samples: ', len(test_images_path1), 'images') \n",
    "test_images_path1[0:5]"
   ]
  },
  {
   "cell_type": "code",
   "execution_count": 16,
   "metadata": {},
   "outputs": [
    {
     "data": {
      "text/html": [
       "<div>\n",
       "<style scoped>\n",
       "    .dataframe tbody tr th:only-of-type {\n",
       "        vertical-align: middle;\n",
       "    }\n",
       "\n",
       "    .dataframe tbody tr th {\n",
       "        vertical-align: top;\n",
       "    }\n",
       "\n",
       "    .dataframe thead th {\n",
       "        text-align: right;\n",
       "    }\n",
       "</style>\n",
       "<table border=\"1\" class=\"dataframe\">\n",
       "  <thead>\n",
       "    <tr style=\"text-align: right;\">\n",
       "      <th></th>\n",
       "      <th>patientId</th>\n",
       "    </tr>\n",
       "  </thead>\n",
       "  <tbody>\n",
       "    <tr>\n",
       "      <th>0</th>\n",
       "      <td>07332989-6518-4bd9-96de-f4513948cf4a</td>\n",
       "    </tr>\n",
       "    <tr>\n",
       "      <th>1</th>\n",
       "      <td>e380d5fb-dc74-41c9-adad-05b7b88b9137</td>\n",
       "    </tr>\n",
       "    <tr>\n",
       "      <th>2</th>\n",
       "      <td>75dbc949-4634-4f9c-b3bb-a8c03747e9e1</td>\n",
       "    </tr>\n",
       "    <tr>\n",
       "      <th>3</th>\n",
       "      <td>3c0a97d7-6d90-46a6-a10a-1df9e4064d52</td>\n",
       "    </tr>\n",
       "    <tr>\n",
       "      <th>4</th>\n",
       "      <td>8ca19865-fd6c-4bcd-a2a0-7f9e9ea4bc5c</td>\n",
       "    </tr>\n",
       "  </tbody>\n",
       "</table>\n",
       "</div>"
      ],
      "text/plain": [
       "                              patientId\n",
       "0  07332989-6518-4bd9-96de-f4513948cf4a\n",
       "1  e380d5fb-dc74-41c9-adad-05b7b88b9137\n",
       "2  75dbc949-4634-4f9c-b3bb-a8c03747e9e1\n",
       "3  3c0a97d7-6d90-46a6-a10a-1df9e4064d52\n",
       "4  8ca19865-fd6c-4bcd-a2a0-7f9e9ea4bc5c"
      ]
     },
     "execution_count": 16,
     "metadata": {},
     "output_type": "execute_result"
    }
   ],
   "source": [
    "# Create a dataframe of the final test images from the folder paths\n",
    "test_images_path_df=pd.DataFrame(test_images_path1, columns=['patientId'])\n",
    "test_images_path_df.head(5)"
   ]
  },
  {
   "cell_type": "code",
   "execution_count": 17,
   "metadata": {},
   "outputs": [
    {
     "name": "stdout",
     "output_type": "stream",
     "text": [
      "Final test samples:  998 images\n"
     ]
    },
    {
     "data": {
      "text/html": [
       "<div>\n",
       "<style scoped>\n",
       "    .dataframe tbody tr th:only-of-type {\n",
       "        vertical-align: middle;\n",
       "    }\n",
       "\n",
       "    .dataframe tbody tr th {\n",
       "        vertical-align: top;\n",
       "    }\n",
       "\n",
       "    .dataframe thead th {\n",
       "        text-align: right;\n",
       "    }\n",
       "</style>\n",
       "<table border=\"1\" class=\"dataframe\">\n",
       "  <thead>\n",
       "    <tr style=\"text-align: right;\">\n",
       "      <th></th>\n",
       "      <th>patientId</th>\n",
       "      <th>0</th>\n",
       "      <th>index</th>\n",
       "      <th>x</th>\n",
       "      <th>y</th>\n",
       "      <th>width</th>\n",
       "      <th>height</th>\n",
       "      <th>Target</th>\n",
       "    </tr>\n",
       "  </thead>\n",
       "  <tbody>\n",
       "    <tr>\n",
       "      <th>0</th>\n",
       "      <td>07332989-6518-4bd9-96de-f4513948cf4a</td>\n",
       "      <td>379</td>\n",
       "      <td>379</td>\n",
       "      <td>146.0</td>\n",
       "      <td>701.0</td>\n",
       "      <td>303.0</td>\n",
       "      <td>323.0</td>\n",
       "      <td>1</td>\n",
       "    </tr>\n",
       "    <tr>\n",
       "      <th>1</th>\n",
       "      <td>e380d5fb-dc74-41c9-adad-05b7b88b9137</td>\n",
       "      <td>25388</td>\n",
       "      <td>25388</td>\n",
       "      <td>162.0</td>\n",
       "      <td>412.0</td>\n",
       "      <td>228.0</td>\n",
       "      <td>260.0</td>\n",
       "      <td>1</td>\n",
       "    </tr>\n",
       "    <tr>\n",
       "      <th>2</th>\n",
       "      <td>75dbc949-4634-4f9c-b3bb-a8c03747e9e1</td>\n",
       "      <td>11313</td>\n",
       "      <td>11313</td>\n",
       "      <td>720.0</td>\n",
       "      <td>363.0</td>\n",
       "      <td>166.0</td>\n",
       "      <td>308.0</td>\n",
       "      <td>1</td>\n",
       "    </tr>\n",
       "    <tr>\n",
       "      <th>3</th>\n",
       "      <td>3c0a97d7-6d90-46a6-a10a-1df9e4064d52</td>\n",
       "      <td>3997</td>\n",
       "      <td>3997</td>\n",
       "      <td>608.0</td>\n",
       "      <td>360.0</td>\n",
       "      <td>292.0</td>\n",
       "      <td>233.0</td>\n",
       "      <td>1</td>\n",
       "    </tr>\n",
       "    <tr>\n",
       "      <th>4</th>\n",
       "      <td>8ca19865-fd6c-4bcd-a2a0-7f9e9ea4bc5c</td>\n",
       "      <td>14158</td>\n",
       "      <td>14158</td>\n",
       "      <td>580.0</td>\n",
       "      <td>228.0</td>\n",
       "      <td>301.0</td>\n",
       "      <td>614.0</td>\n",
       "      <td>1</td>\n",
       "    </tr>\n",
       "  </tbody>\n",
       "</table>\n",
       "</div>"
      ],
      "text/plain": [
       "                              patientId      0  index      x      y  width  \\\n",
       "0  07332989-6518-4bd9-96de-f4513948cf4a    379    379  146.0  701.0  303.0   \n",
       "1  e380d5fb-dc74-41c9-adad-05b7b88b9137  25388  25388  162.0  412.0  228.0   \n",
       "2  75dbc949-4634-4f9c-b3bb-a8c03747e9e1  11313  11313  720.0  363.0  166.0   \n",
       "3  3c0a97d7-6d90-46a6-a10a-1df9e4064d52   3997   3997  608.0  360.0  292.0   \n",
       "4  8ca19865-fd6c-4bcd-a2a0-7f9e9ea4bc5c  14158  14158  580.0  228.0  301.0   \n",
       "\n",
       "   height  Target  \n",
       "0   323.0       1  \n",
       "1   260.0       1  \n",
       "2   308.0       1  \n",
       "3   233.0       1  \n",
       "4   614.0       1  "
      ]
     },
     "execution_count": 17,
     "metadata": {},
     "output_type": "execute_result"
    }
   ],
   "source": [
    "# Merge the train_images_path_df with corresponding Target values using merge_rus dataframe \n",
    "df_test= pd.merge(test_images_path_df,merge_test, left_on='patientId', right_on='patientId',how='left')\n",
    "print('Final test samples: ', len(df_test), 'images') \n",
    "df_test.head(5)"
   ]
  },
  {
   "cell_type": "code",
   "execution_count": 18,
   "metadata": {},
   "outputs": [],
   "source": [
    "# Save as csv file  \n",
    "df_test.to_csv('~/Desktop/Thinkful/data/df_test.csv', index=False)"
   ]
  },
  {
   "cell_type": "markdown",
   "metadata": {},
   "source": [
    "**Step 3: Save validation images and csv file with image names and target labels**"
   ]
  },
  {
   "cell_type": "code",
   "execution_count": 19,
   "metadata": {},
   "outputs": [
    {
     "name": "stdout",
     "output_type": "stream",
     "text": [
      "1004 Validation images\n"
     ]
    },
    {
     "data": {
      "text/html": [
       "<div>\n",
       "<style scoped>\n",
       "    .dataframe tbody tr th:only-of-type {\n",
       "        vertical-align: middle;\n",
       "    }\n",
       "\n",
       "    .dataframe tbody tr th {\n",
       "        vertical-align: top;\n",
       "    }\n",
       "\n",
       "    .dataframe thead th {\n",
       "        text-align: right;\n",
       "    }\n",
       "</style>\n",
       "<table border=\"1\" class=\"dataframe\">\n",
       "  <thead>\n",
       "    <tr style=\"text-align: right;\">\n",
       "      <th></th>\n",
       "      <th>0</th>\n",
       "      <th>index</th>\n",
       "    </tr>\n",
       "  </thead>\n",
       "  <tbody>\n",
       "    <tr>\n",
       "      <th>0</th>\n",
       "      <td>20243</td>\n",
       "      <td>20243</td>\n",
       "    </tr>\n",
       "    <tr>\n",
       "      <th>1</th>\n",
       "      <td>12122</td>\n",
       "      <td>12122</td>\n",
       "    </tr>\n",
       "    <tr>\n",
       "      <th>2</th>\n",
       "      <td>706</td>\n",
       "      <td>706</td>\n",
       "    </tr>\n",
       "    <tr>\n",
       "      <th>3</th>\n",
       "      <td>1500</td>\n",
       "      <td>1500</td>\n",
       "    </tr>\n",
       "    <tr>\n",
       "      <th>4</th>\n",
       "      <td>14731</td>\n",
       "      <td>14731</td>\n",
       "    </tr>\n",
       "  </tbody>\n",
       "</table>\n",
       "</div>"
      ],
      "text/plain": [
       "       0  index\n",
       "0  20243  20243\n",
       "1  12122  12122\n",
       "2    706    706\n",
       "3   1500   1500\n",
       "4  14731  14731"
      ]
     },
     "execution_count": 19,
     "metadata": {},
     "output_type": "execute_result"
    }
   ],
   "source": [
    "# Convert numpy arrays back to dataframe\n",
    "x_val_df=pd.DataFrame(x_val)\n",
    "x_val_df['index']=x_val_df\n",
    "print(len(x_val_df), 'Validation images')\n",
    "x_val_df.head(5)"
   ]
  },
  {
   "cell_type": "code",
   "execution_count": 20,
   "metadata": {},
   "outputs": [
    {
     "name": "stdout",
     "output_type": "stream",
     "text": [
      "Final validation samples:  1004 images\n",
      "Percent of positive class in the final validation samples: 48.01 %\n"
     ]
    },
    {
     "data": {
      "text/html": [
       "<div>\n",
       "<style scoped>\n",
       "    .dataframe tbody tr th:only-of-type {\n",
       "        vertical-align: middle;\n",
       "    }\n",
       "\n",
       "    .dataframe tbody tr th {\n",
       "        vertical-align: top;\n",
       "    }\n",
       "\n",
       "    .dataframe thead th {\n",
       "        text-align: right;\n",
       "    }\n",
       "</style>\n",
       "<table border=\"1\" class=\"dataframe\">\n",
       "  <thead>\n",
       "    <tr style=\"text-align: right;\">\n",
       "      <th></th>\n",
       "      <th>0</th>\n",
       "      <th>index</th>\n",
       "      <th>patientId</th>\n",
       "      <th>x</th>\n",
       "      <th>y</th>\n",
       "      <th>width</th>\n",
       "      <th>height</th>\n",
       "      <th>Target</th>\n",
       "    </tr>\n",
       "  </thead>\n",
       "  <tbody>\n",
       "    <tr>\n",
       "      <th>0</th>\n",
       "      <td>20243</td>\n",
       "      <td>20243</td>\n",
       "      <td>ba036253-6844-428c-a27b-14e9b6021740</td>\n",
       "      <td>572.0</td>\n",
       "      <td>400.0</td>\n",
       "      <td>156.0</td>\n",
       "      <td>240.0</td>\n",
       "      <td>1</td>\n",
       "    </tr>\n",
       "    <tr>\n",
       "      <th>1</th>\n",
       "      <td>12122</td>\n",
       "      <td>12122</td>\n",
       "      <td>7c545810-e2b5-4849-a2ff-893075f28192</td>\n",
       "      <td>680.0</td>\n",
       "      <td>484.0</td>\n",
       "      <td>166.0</td>\n",
       "      <td>288.0</td>\n",
       "      <td>1</td>\n",
       "    </tr>\n",
       "    <tr>\n",
       "      <th>2</th>\n",
       "      <td>706</td>\n",
       "      <td>706</td>\n",
       "      <td>09a71d45-931c-4089-958d-3eca0f1e303a</td>\n",
       "      <td>NaN</td>\n",
       "      <td>NaN</td>\n",
       "      <td>NaN</td>\n",
       "      <td>NaN</td>\n",
       "      <td>0</td>\n",
       "    </tr>\n",
       "    <tr>\n",
       "      <th>3</th>\n",
       "      <td>1500</td>\n",
       "      <td>1500</td>\n",
       "      <td>1677cfe0-e54f-4672-b49c-36cfd12ec76b</td>\n",
       "      <td>NaN</td>\n",
       "      <td>NaN</td>\n",
       "      <td>NaN</td>\n",
       "      <td>NaN</td>\n",
       "      <td>0</td>\n",
       "    </tr>\n",
       "    <tr>\n",
       "      <th>4</th>\n",
       "      <td>14731</td>\n",
       "      <td>14731</td>\n",
       "      <td>911027e5-82d0-44f8-af40-de9049922430</td>\n",
       "      <td>281.0</td>\n",
       "      <td>336.0</td>\n",
       "      <td>260.0</td>\n",
       "      <td>680.0</td>\n",
       "      <td>1</td>\n",
       "    </tr>\n",
       "  </tbody>\n",
       "</table>\n",
       "</div>"
      ],
      "text/plain": [
       "       0  index                             patientId      x      y  width  \\\n",
       "0  20243  20243  ba036253-6844-428c-a27b-14e9b6021740  572.0  400.0  156.0   \n",
       "1  12122  12122  7c545810-e2b5-4849-a2ff-893075f28192  680.0  484.0  166.0   \n",
       "2    706    706  09a71d45-931c-4089-958d-3eca0f1e303a    NaN    NaN    NaN   \n",
       "3   1500   1500  1677cfe0-e54f-4672-b49c-36cfd12ec76b    NaN    NaN    NaN   \n",
       "4  14731  14731  911027e5-82d0-44f8-af40-de9049922430  281.0  336.0  260.0   \n",
       "\n",
       "   height  Target  \n",
       "0   240.0       1  \n",
       "1   288.0       1  \n",
       "2     NaN       0  \n",
       "3     NaN       0  \n",
       "4   680.0       1  "
      ]
     },
     "execution_count": 20,
     "metadata": {},
     "output_type": "execute_result"
    }
   ],
   "source": [
    "# Merge the validation samples with the original dataframe to retrieve image names and Target values \n",
    "merge_valid= pd.merge(x_val_df,df, left_on='index', right_on='index',how='left')\n",
    "print('Final validation samples: ', merge_valid.shape[0], 'images') \n",
    "print('Percent of positive class in the final validation samples:', round(merge_valid['Target'].mean()*100, 2), '%')\n",
    "merge_valid.head(5)"
   ]
  },
  {
   "cell_type": "code",
   "execution_count": 21,
   "metadata": {},
   "outputs": [
    {
     "name": "stdout",
     "output_type": "stream",
     "text": [
      "Final validation samples:  1004 images\n"
     ]
    },
    {
     "data": {
      "text/plain": [
       "['ba036253-6844-428c-a27b-14e9b6021740',\n",
       " '7c545810-e2b5-4849-a2ff-893075f28192',\n",
       " '09a71d45-931c-4089-958d-3eca0f1e303a',\n",
       " '1677cfe0-e54f-4672-b49c-36cfd12ec76b',\n",
       " '911027e5-82d0-44f8-af40-de9049922430']"
      ]
     },
     "execution_count": 21,
     "metadata": {},
     "output_type": "execute_result"
    }
   ],
   "source": [
    "# Create a list of final test image names from the merged dataframe\n",
    "valid_images_df=list(merge_valid['patientId'])\n",
    "print('Final validation samples: ', len(valid_images_df), 'images') \n",
    "valid_images_df[0:5]"
   ]
  },
  {
   "cell_type": "code",
   "execution_count": 22,
   "metadata": {},
   "outputs": [],
   "source": [
    "# Specify the path to copy final validation images to\n",
    "valid_image_path = os.path.join(abs_path, 'data', 'valid_images')"
   ]
  },
  {
   "cell_type": "code",
   "execution_count": 23,
   "metadata": {},
   "outputs": [],
   "source": [
    "# Copy validation images\n",
    "for i in valid_images_df: \n",
    "    shutil.copy(os.path.join(jpg_image_path, i+ '.jpg'), valid_image_path)"
   ]
  },
  {
   "cell_type": "code",
   "execution_count": 24,
   "metadata": {},
   "outputs": [
    {
     "name": "stdout",
     "output_type": "stream",
     "text": [
      "Final validation samples:  1004 images\n"
     ]
    },
    {
     "data": {
      "text/plain": [
       "['af8a9a3f-9487-454b-8ee6-65c9554f3a87',\n",
       " 'f7793f41-fe23-4e09-8bef-6394b56bed37',\n",
       " '6ed56555-277d-42bc-9e16-c43b679b62d2',\n",
       " '9b90c3f5-5126-4ef4-b109-244c88676697',\n",
       " '17bbf318-ef96-4dac-99e0-59fae5c60b56']"
      ]
     },
     "execution_count": 24,
     "metadata": {},
     "output_type": "execute_result"
    }
   ],
   "source": [
    "# Generate the list of the final validation images from the folder paths\n",
    "valid_images_path = os.listdir(valid_image_path)\n",
    "valid_images_path1 = [i.strip('.jpg') for i in valid_images_path]\n",
    "print('Final validation samples: ', len(valid_images_path1), 'images') \n",
    "valid_images_path1[0:5]"
   ]
  },
  {
   "cell_type": "code",
   "execution_count": 25,
   "metadata": {},
   "outputs": [
    {
     "data": {
      "text/html": [
       "<div>\n",
       "<style scoped>\n",
       "    .dataframe tbody tr th:only-of-type {\n",
       "        vertical-align: middle;\n",
       "    }\n",
       "\n",
       "    .dataframe tbody tr th {\n",
       "        vertical-align: top;\n",
       "    }\n",
       "\n",
       "    .dataframe thead th {\n",
       "        text-align: right;\n",
       "    }\n",
       "</style>\n",
       "<table border=\"1\" class=\"dataframe\">\n",
       "  <thead>\n",
       "    <tr style=\"text-align: right;\">\n",
       "      <th></th>\n",
       "      <th>patientId</th>\n",
       "    </tr>\n",
       "  </thead>\n",
       "  <tbody>\n",
       "    <tr>\n",
       "      <th>0</th>\n",
       "      <td>af8a9a3f-9487-454b-8ee6-65c9554f3a87</td>\n",
       "    </tr>\n",
       "    <tr>\n",
       "      <th>1</th>\n",
       "      <td>f7793f41-fe23-4e09-8bef-6394b56bed37</td>\n",
       "    </tr>\n",
       "    <tr>\n",
       "      <th>2</th>\n",
       "      <td>6ed56555-277d-42bc-9e16-c43b679b62d2</td>\n",
       "    </tr>\n",
       "    <tr>\n",
       "      <th>3</th>\n",
       "      <td>9b90c3f5-5126-4ef4-b109-244c88676697</td>\n",
       "    </tr>\n",
       "    <tr>\n",
       "      <th>4</th>\n",
       "      <td>17bbf318-ef96-4dac-99e0-59fae5c60b56</td>\n",
       "    </tr>\n",
       "  </tbody>\n",
       "</table>\n",
       "</div>"
      ],
      "text/plain": [
       "                              patientId\n",
       "0  af8a9a3f-9487-454b-8ee6-65c9554f3a87\n",
       "1  f7793f41-fe23-4e09-8bef-6394b56bed37\n",
       "2  6ed56555-277d-42bc-9e16-c43b679b62d2\n",
       "3  9b90c3f5-5126-4ef4-b109-244c88676697\n",
       "4  17bbf318-ef96-4dac-99e0-59fae5c60b56"
      ]
     },
     "execution_count": 25,
     "metadata": {},
     "output_type": "execute_result"
    }
   ],
   "source": [
    "# Create a dataframe of the final validation images from the folder paths\n",
    "valid_images_path_df=pd.DataFrame(valid_images_path1, columns=['patientId'])\n",
    "valid_images_path_df.head(5)"
   ]
  },
  {
   "cell_type": "code",
   "execution_count": 26,
   "metadata": {},
   "outputs": [
    {
     "name": "stdout",
     "output_type": "stream",
     "text": [
      "Final validation samples:  1004 images\n"
     ]
    },
    {
     "data": {
      "text/html": [
       "<div>\n",
       "<style scoped>\n",
       "    .dataframe tbody tr th:only-of-type {\n",
       "        vertical-align: middle;\n",
       "    }\n",
       "\n",
       "    .dataframe tbody tr th {\n",
       "        vertical-align: top;\n",
       "    }\n",
       "\n",
       "    .dataframe thead th {\n",
       "        text-align: right;\n",
       "    }\n",
       "</style>\n",
       "<table border=\"1\" class=\"dataframe\">\n",
       "  <thead>\n",
       "    <tr style=\"text-align: right;\">\n",
       "      <th></th>\n",
       "      <th>patientId</th>\n",
       "      <th>0</th>\n",
       "      <th>index</th>\n",
       "      <th>x</th>\n",
       "      <th>y</th>\n",
       "      <th>width</th>\n",
       "      <th>height</th>\n",
       "      <th>Target</th>\n",
       "    </tr>\n",
       "  </thead>\n",
       "  <tbody>\n",
       "    <tr>\n",
       "      <th>0</th>\n",
       "      <td>af8a9a3f-9487-454b-8ee6-65c9554f3a87</td>\n",
       "      <td>18667</td>\n",
       "      <td>18667</td>\n",
       "      <td>294.0</td>\n",
       "      <td>606.0</td>\n",
       "      <td>132.0</td>\n",
       "      <td>120.0</td>\n",
       "      <td>1</td>\n",
       "    </tr>\n",
       "    <tr>\n",
       "      <th>1</th>\n",
       "      <td>f7793f41-fe23-4e09-8bef-6394b56bed37</td>\n",
       "      <td>27898</td>\n",
       "      <td>27898</td>\n",
       "      <td>630.0</td>\n",
       "      <td>188.0</td>\n",
       "      <td>221.0</td>\n",
       "      <td>506.0</td>\n",
       "      <td>1</td>\n",
       "    </tr>\n",
       "    <tr>\n",
       "      <th>2</th>\n",
       "      <td>6ed56555-277d-42bc-9e16-c43b679b62d2</td>\n",
       "      <td>10400</td>\n",
       "      <td>10400</td>\n",
       "      <td>NaN</td>\n",
       "      <td>NaN</td>\n",
       "      <td>NaN</td>\n",
       "      <td>NaN</td>\n",
       "      <td>0</td>\n",
       "    </tr>\n",
       "    <tr>\n",
       "      <th>3</th>\n",
       "      <td>9b90c3f5-5126-4ef4-b109-244c88676697</td>\n",
       "      <td>16036</td>\n",
       "      <td>16036</td>\n",
       "      <td>555.0</td>\n",
       "      <td>367.0</td>\n",
       "      <td>270.0</td>\n",
       "      <td>574.0</td>\n",
       "      <td>1</td>\n",
       "    </tr>\n",
       "    <tr>\n",
       "      <th>4</th>\n",
       "      <td>17bbf318-ef96-4dac-99e0-59fae5c60b56</td>\n",
       "      <td>1646</td>\n",
       "      <td>1646</td>\n",
       "      <td>NaN</td>\n",
       "      <td>NaN</td>\n",
       "      <td>NaN</td>\n",
       "      <td>NaN</td>\n",
       "      <td>0</td>\n",
       "    </tr>\n",
       "  </tbody>\n",
       "</table>\n",
       "</div>"
      ],
      "text/plain": [
       "                              patientId      0  index      x      y  width  \\\n",
       "0  af8a9a3f-9487-454b-8ee6-65c9554f3a87  18667  18667  294.0  606.0  132.0   \n",
       "1  f7793f41-fe23-4e09-8bef-6394b56bed37  27898  27898  630.0  188.0  221.0   \n",
       "2  6ed56555-277d-42bc-9e16-c43b679b62d2  10400  10400    NaN    NaN    NaN   \n",
       "3  9b90c3f5-5126-4ef4-b109-244c88676697  16036  16036  555.0  367.0  270.0   \n",
       "4  17bbf318-ef96-4dac-99e0-59fae5c60b56   1646   1646    NaN    NaN    NaN   \n",
       "\n",
       "   height  Target  \n",
       "0   120.0       1  \n",
       "1   506.0       1  \n",
       "2     NaN       0  \n",
       "3   574.0       1  \n",
       "4     NaN       0  "
      ]
     },
     "execution_count": 26,
     "metadata": {},
     "output_type": "execute_result"
    }
   ],
   "source": [
    "# Merge the valid_images_path_df with corresponding Target values using merge_valid dataframe \n",
    "df_valid= pd.merge(valid_images_path_df,merge_valid, left_on='patientId', right_on='patientId',how='left')\n",
    "print('Final validation samples: ', len(df_valid), 'images') \n",
    "df_valid.head(5)"
   ]
  },
  {
   "cell_type": "code",
   "execution_count": 27,
   "metadata": {},
   "outputs": [],
   "source": [
    "# Save as csv file  \n",
    "df_valid.to_csv('~/Desktop/Thinkful/data/df_valid.csv', index=False)"
   ]
  },
  {
   "cell_type": "markdown",
   "metadata": {},
   "source": [
    "**Step 4: Save train images and csv file with image names and target labels**"
   ]
  },
  {
   "cell_type": "code",
   "execution_count": 28,
   "metadata": {},
   "outputs": [
    {
     "name": "stdout",
     "output_type": "stream",
     "text": [
      "5011 Train images\n"
     ]
    },
    {
     "data": {
      "text/html": [
       "<div>\n",
       "<style scoped>\n",
       "    .dataframe tbody tr th:only-of-type {\n",
       "        vertical-align: middle;\n",
       "    }\n",
       "\n",
       "    .dataframe tbody tr th {\n",
       "        vertical-align: top;\n",
       "    }\n",
       "\n",
       "    .dataframe thead th {\n",
       "        text-align: right;\n",
       "    }\n",
       "</style>\n",
       "<table border=\"1\" class=\"dataframe\">\n",
       "  <thead>\n",
       "    <tr style=\"text-align: right;\">\n",
       "      <th></th>\n",
       "      <th>0</th>\n",
       "      <th>index</th>\n",
       "    </tr>\n",
       "  </thead>\n",
       "  <tbody>\n",
       "    <tr>\n",
       "      <th>0</th>\n",
       "      <td>22920</td>\n",
       "      <td>22920</td>\n",
       "    </tr>\n",
       "    <tr>\n",
       "      <th>1</th>\n",
       "      <td>1245</td>\n",
       "      <td>1245</td>\n",
       "    </tr>\n",
       "    <tr>\n",
       "      <th>2</th>\n",
       "      <td>1219</td>\n",
       "      <td>1219</td>\n",
       "    </tr>\n",
       "    <tr>\n",
       "      <th>3</th>\n",
       "      <td>20480</td>\n",
       "      <td>20480</td>\n",
       "    </tr>\n",
       "    <tr>\n",
       "      <th>4</th>\n",
       "      <td>17700</td>\n",
       "      <td>17700</td>\n",
       "    </tr>\n",
       "  </tbody>\n",
       "</table>\n",
       "</div>"
      ],
      "text/plain": [
       "       0  index\n",
       "0  22920  22920\n",
       "1   1245   1245\n",
       "2   1219   1219\n",
       "3  20480  20480\n",
       "4  17700  17700"
      ]
     },
     "execution_count": 28,
     "metadata": {},
     "output_type": "execute_result"
    }
   ],
   "source": [
    "# Convert numpy arrays back to dataframe\n",
    "x_train_df=pd.DataFrame(x_train_final)\n",
    "x_train_df['index']=x_train_df\n",
    "print(len(x_train_df), 'Train images')\n",
    "x_train_df.head(5)"
   ]
  },
  {
   "cell_type": "code",
   "execution_count": 29,
   "metadata": {},
   "outputs": [
    {
     "name": "stdout",
     "output_type": "stream",
     "text": [
      "Final train samples:  5011 images\n",
      "Percent of positive class in the final train samples: 50.53 %\n"
     ]
    },
    {
     "data": {
      "text/html": [
       "<div>\n",
       "<style scoped>\n",
       "    .dataframe tbody tr th:only-of-type {\n",
       "        vertical-align: middle;\n",
       "    }\n",
       "\n",
       "    .dataframe tbody tr th {\n",
       "        vertical-align: top;\n",
       "    }\n",
       "\n",
       "    .dataframe thead th {\n",
       "        text-align: right;\n",
       "    }\n",
       "</style>\n",
       "<table border=\"1\" class=\"dataframe\">\n",
       "  <thead>\n",
       "    <tr style=\"text-align: right;\">\n",
       "      <th></th>\n",
       "      <th>0</th>\n",
       "      <th>index</th>\n",
       "      <th>patientId</th>\n",
       "      <th>x</th>\n",
       "      <th>y</th>\n",
       "      <th>width</th>\n",
       "      <th>height</th>\n",
       "      <th>Target</th>\n",
       "    </tr>\n",
       "  </thead>\n",
       "  <tbody>\n",
       "    <tr>\n",
       "      <th>0</th>\n",
       "      <td>22920</td>\n",
       "      <td>22920</td>\n",
       "      <td>ceb849b4-5618-4c3b-b34a-6ef007ae2ba0</td>\n",
       "      <td>357.0</td>\n",
       "      <td>397.0</td>\n",
       "      <td>157.0</td>\n",
       "      <td>212.0</td>\n",
       "      <td>1</td>\n",
       "    </tr>\n",
       "    <tr>\n",
       "      <th>1</th>\n",
       "      <td>1245</td>\n",
       "      <td>1245</td>\n",
       "      <td>11750ff6-94ea-43d0-bad8-f3c3e5278d7d</td>\n",
       "      <td>570.0</td>\n",
       "      <td>395.0</td>\n",
       "      <td>271.0</td>\n",
       "      <td>499.0</td>\n",
       "      <td>1</td>\n",
       "    </tr>\n",
       "    <tr>\n",
       "      <th>2</th>\n",
       "      <td>1219</td>\n",
       "      <td>1219</td>\n",
       "      <td>10528b1d-887c-4107-8b18-aa40a0507389</td>\n",
       "      <td>NaN</td>\n",
       "      <td>NaN</td>\n",
       "      <td>NaN</td>\n",
       "      <td>NaN</td>\n",
       "      <td>0</td>\n",
       "    </tr>\n",
       "    <tr>\n",
       "      <th>3</th>\n",
       "      <td>20480</td>\n",
       "      <td>20480</td>\n",
       "      <td>bb6164ee-9b30-4b94-85ca-5f9d94b2ce4a</td>\n",
       "      <td>270.0</td>\n",
       "      <td>182.0</td>\n",
       "      <td>239.0</td>\n",
       "      <td>508.0</td>\n",
       "      <td>1</td>\n",
       "    </tr>\n",
       "    <tr>\n",
       "      <th>4</th>\n",
       "      <td>17700</td>\n",
       "      <td>17700</td>\n",
       "      <td>a8aae1e6-2a7a-443b-aaed-aecc02bb3e39</td>\n",
       "      <td>NaN</td>\n",
       "      <td>NaN</td>\n",
       "      <td>NaN</td>\n",
       "      <td>NaN</td>\n",
       "      <td>0</td>\n",
       "    </tr>\n",
       "  </tbody>\n",
       "</table>\n",
       "</div>"
      ],
      "text/plain": [
       "       0  index                             patientId      x      y  width  \\\n",
       "0  22920  22920  ceb849b4-5618-4c3b-b34a-6ef007ae2ba0  357.0  397.0  157.0   \n",
       "1   1245   1245  11750ff6-94ea-43d0-bad8-f3c3e5278d7d  570.0  395.0  271.0   \n",
       "2   1219   1219  10528b1d-887c-4107-8b18-aa40a0507389    NaN    NaN    NaN   \n",
       "3  20480  20480  bb6164ee-9b30-4b94-85ca-5f9d94b2ce4a  270.0  182.0  239.0   \n",
       "4  17700  17700  a8aae1e6-2a7a-443b-aaed-aecc02bb3e39    NaN    NaN    NaN   \n",
       "\n",
       "   height  Target  \n",
       "0   212.0       1  \n",
       "1   499.0       1  \n",
       "2     NaN       0  \n",
       "3   508.0       1  \n",
       "4     NaN       0  "
      ]
     },
     "execution_count": 29,
     "metadata": {},
     "output_type": "execute_result"
    }
   ],
   "source": [
    "# Merge the train samples with the original dataframe to retrieve image names and Target values \n",
    "merge_train= pd.merge(x_train_df,df, left_on='index', right_on='index',how='left')\n",
    "print('Final train samples: ', merge_train.shape[0], 'images') \n",
    "print('Percent of positive class in the final train samples:', round(merge_train['Target'].mean()*100, 2), '%')\n",
    "merge_train.head(5)"
   ]
  },
  {
   "cell_type": "code",
   "execution_count": 30,
   "metadata": {},
   "outputs": [
    {
     "name": "stdout",
     "output_type": "stream",
     "text": [
      "Final train samples:  5011 images\n"
     ]
    },
    {
     "data": {
      "text/plain": [
       "['ceb849b4-5618-4c3b-b34a-6ef007ae2ba0',\n",
       " '11750ff6-94ea-43d0-bad8-f3c3e5278d7d',\n",
       " '10528b1d-887c-4107-8b18-aa40a0507389',\n",
       " 'bb6164ee-9b30-4b94-85ca-5f9d94b2ce4a',\n",
       " 'a8aae1e6-2a7a-443b-aaed-aecc02bb3e39']"
      ]
     },
     "execution_count": 30,
     "metadata": {},
     "output_type": "execute_result"
    }
   ],
   "source": [
    "# Create a list of final train image names from the merged dataframe\n",
    "train_images_df=list(merge_train['patientId'])\n",
    "print('Final train samples: ', len(train_images_df), 'images') \n",
    "train_images_df[0:5]"
   ]
  },
  {
   "cell_type": "code",
   "execution_count": 31,
   "metadata": {},
   "outputs": [],
   "source": [
    "# Specify the path to copy final validation images to\n",
    "train_image_path = os.path.join(abs_path, 'data', 'train_images')"
   ]
  },
  {
   "cell_type": "code",
   "execution_count": 32,
   "metadata": {},
   "outputs": [],
   "source": [
    "# Copy validation images\n",
    "for i in train_images_df: \n",
    "    shutil.copy(os.path.join(jpg_image_path, i+ '.jpg'), train_image_path)"
   ]
  },
  {
   "cell_type": "code",
   "execution_count": 33,
   "metadata": {},
   "outputs": [
    {
     "name": "stdout",
     "output_type": "stream",
     "text": [
      "Final train samples:  5011 images\n"
     ]
    },
    {
     "data": {
      "text/plain": [
       "['f93d9a23-cc0d-4eff-abf1-62139ebe80d9',\n",
       " '3abb7176-035d-46cc-844e-820870e8154b',\n",
       " '55d5fe58-1dd5-454e-8628-92ef7f2993dc',\n",
       " 'da358a05-8106-45af-9a65-a95e5296cc09',\n",
       " 'e46bf3ce-4426-4f41-bcf5-4afb112164b5']"
      ]
     },
     "execution_count": 33,
     "metadata": {},
     "output_type": "execute_result"
    }
   ],
   "source": [
    "# Generate the list of the final train images from the folder paths\n",
    "train_images_path = os.listdir(train_image_path)\n",
    "train_images_path1 = [i.strip('.jpg') for i in train_images_path]\n",
    "print('Final train samples: ', len(train_images_path1), 'images') \n",
    "train_images_path1[0:5]"
   ]
  },
  {
   "cell_type": "code",
   "execution_count": 34,
   "metadata": {},
   "outputs": [
    {
     "data": {
      "text/html": [
       "<div>\n",
       "<style scoped>\n",
       "    .dataframe tbody tr th:only-of-type {\n",
       "        vertical-align: middle;\n",
       "    }\n",
       "\n",
       "    .dataframe tbody tr th {\n",
       "        vertical-align: top;\n",
       "    }\n",
       "\n",
       "    .dataframe thead th {\n",
       "        text-align: right;\n",
       "    }\n",
       "</style>\n",
       "<table border=\"1\" class=\"dataframe\">\n",
       "  <thead>\n",
       "    <tr style=\"text-align: right;\">\n",
       "      <th></th>\n",
       "      <th>patientId</th>\n",
       "    </tr>\n",
       "  </thead>\n",
       "  <tbody>\n",
       "    <tr>\n",
       "      <th>0</th>\n",
       "      <td>f93d9a23-cc0d-4eff-abf1-62139ebe80d9</td>\n",
       "    </tr>\n",
       "    <tr>\n",
       "      <th>1</th>\n",
       "      <td>3abb7176-035d-46cc-844e-820870e8154b</td>\n",
       "    </tr>\n",
       "    <tr>\n",
       "      <th>2</th>\n",
       "      <td>55d5fe58-1dd5-454e-8628-92ef7f2993dc</td>\n",
       "    </tr>\n",
       "    <tr>\n",
       "      <th>3</th>\n",
       "      <td>da358a05-8106-45af-9a65-a95e5296cc09</td>\n",
       "    </tr>\n",
       "    <tr>\n",
       "      <th>4</th>\n",
       "      <td>e46bf3ce-4426-4f41-bcf5-4afb112164b5</td>\n",
       "    </tr>\n",
       "  </tbody>\n",
       "</table>\n",
       "</div>"
      ],
      "text/plain": [
       "                              patientId\n",
       "0  f93d9a23-cc0d-4eff-abf1-62139ebe80d9\n",
       "1  3abb7176-035d-46cc-844e-820870e8154b\n",
       "2  55d5fe58-1dd5-454e-8628-92ef7f2993dc\n",
       "3  da358a05-8106-45af-9a65-a95e5296cc09\n",
       "4  e46bf3ce-4426-4f41-bcf5-4afb112164b5"
      ]
     },
     "execution_count": 34,
     "metadata": {},
     "output_type": "execute_result"
    }
   ],
   "source": [
    "# Create a dataframe of the final validation images from the folder paths\n",
    "train_images_path_df=pd.DataFrame(train_images_path1, columns=['patientId'])\n",
    "train_images_path_df.head(5)"
   ]
  },
  {
   "cell_type": "code",
   "execution_count": 35,
   "metadata": {},
   "outputs": [
    {
     "name": "stdout",
     "output_type": "stream",
     "text": [
      "Final train samples:  5011 images\n"
     ]
    },
    {
     "data": {
      "text/html": [
       "<div>\n",
       "<style scoped>\n",
       "    .dataframe tbody tr th:only-of-type {\n",
       "        vertical-align: middle;\n",
       "    }\n",
       "\n",
       "    .dataframe tbody tr th {\n",
       "        vertical-align: top;\n",
       "    }\n",
       "\n",
       "    .dataframe thead th {\n",
       "        text-align: right;\n",
       "    }\n",
       "</style>\n",
       "<table border=\"1\" class=\"dataframe\">\n",
       "  <thead>\n",
       "    <tr style=\"text-align: right;\">\n",
       "      <th></th>\n",
       "      <th>patientId</th>\n",
       "      <th>0</th>\n",
       "      <th>index</th>\n",
       "      <th>x</th>\n",
       "      <th>y</th>\n",
       "      <th>width</th>\n",
       "      <th>height</th>\n",
       "      <th>Target</th>\n",
       "    </tr>\n",
       "  </thead>\n",
       "  <tbody>\n",
       "    <tr>\n",
       "      <th>0</th>\n",
       "      <td>f93d9a23-cc0d-4eff-abf1-62139ebe80d9</td>\n",
       "      <td>28113</td>\n",
       "      <td>28113</td>\n",
       "      <td>NaN</td>\n",
       "      <td>NaN</td>\n",
       "      <td>NaN</td>\n",
       "      <td>NaN</td>\n",
       "      <td>0</td>\n",
       "    </tr>\n",
       "    <tr>\n",
       "      <th>1</th>\n",
       "      <td>3abb7176-035d-46cc-844e-820870e8154b</td>\n",
       "      <td>3803</td>\n",
       "      <td>3803</td>\n",
       "      <td>138.0</td>\n",
       "      <td>305.0</td>\n",
       "      <td>242.0</td>\n",
       "      <td>529.0</td>\n",
       "      <td>1</td>\n",
       "    </tr>\n",
       "    <tr>\n",
       "      <th>2</th>\n",
       "      <td>55d5fe58-1dd5-454e-8628-92ef7f2993dc</td>\n",
       "      <td>7297</td>\n",
       "      <td>7297</td>\n",
       "      <td>693.0</td>\n",
       "      <td>385.0</td>\n",
       "      <td>135.0</td>\n",
       "      <td>132.0</td>\n",
       "      <td>1</td>\n",
       "    </tr>\n",
       "    <tr>\n",
       "      <th>3</th>\n",
       "      <td>da358a05-8106-45af-9a65-a95e5296cc09</td>\n",
       "      <td>24288</td>\n",
       "      <td>24288</td>\n",
       "      <td>NaN</td>\n",
       "      <td>NaN</td>\n",
       "      <td>NaN</td>\n",
       "      <td>NaN</td>\n",
       "      <td>0</td>\n",
       "    </tr>\n",
       "    <tr>\n",
       "      <th>4</th>\n",
       "      <td>e46bf3ce-4426-4f41-bcf5-4afb112164b5</td>\n",
       "      <td>25497</td>\n",
       "      <td>25497</td>\n",
       "      <td>NaN</td>\n",
       "      <td>NaN</td>\n",
       "      <td>NaN</td>\n",
       "      <td>NaN</td>\n",
       "      <td>0</td>\n",
       "    </tr>\n",
       "  </tbody>\n",
       "</table>\n",
       "</div>"
      ],
      "text/plain": [
       "                              patientId      0  index      x      y  width  \\\n",
       "0  f93d9a23-cc0d-4eff-abf1-62139ebe80d9  28113  28113    NaN    NaN    NaN   \n",
       "1  3abb7176-035d-46cc-844e-820870e8154b   3803   3803  138.0  305.0  242.0   \n",
       "2  55d5fe58-1dd5-454e-8628-92ef7f2993dc   7297   7297  693.0  385.0  135.0   \n",
       "3  da358a05-8106-45af-9a65-a95e5296cc09  24288  24288    NaN    NaN    NaN   \n",
       "4  e46bf3ce-4426-4f41-bcf5-4afb112164b5  25497  25497    NaN    NaN    NaN   \n",
       "\n",
       "   height  Target  \n",
       "0     NaN       0  \n",
       "1   529.0       1  \n",
       "2   132.0       1  \n",
       "3     NaN       0  \n",
       "4     NaN       0  "
      ]
     },
     "execution_count": 35,
     "metadata": {},
     "output_type": "execute_result"
    }
   ],
   "source": [
    "# Merge the valid_images_path_df with corresponding Target values using merge_valid dataframe \n",
    "df_train= pd.merge(train_images_path_df,merge_train, left_on='patientId', right_on='patientId',how='left')\n",
    "print('Final train samples: ', len(df_train), 'images') \n",
    "df_train.head(5)"
   ]
  },
  {
   "cell_type": "code",
   "execution_count": 36,
   "metadata": {},
   "outputs": [],
   "source": [
    "# Save as csv file  \n",
    "df_train.to_csv('~/Desktop/Thinkful/data/df_train.csv', index=False)"
   ]
  }
 ],
 "metadata": {
  "kernelspec": {
   "display_name": "Python 3",
   "language": "python",
   "name": "python3"
  },
  "language_info": {
   "codemirror_mode": {
    "name": "ipython",
    "version": 3
   },
   "file_extension": ".py",
   "mimetype": "text/x-python",
   "name": "python",
   "nbconvert_exporter": "python",
   "pygments_lexer": "ipython3",
   "version": "3.7.0"
  }
 },
 "nbformat": 4,
 "nbformat_minor": 2
}
